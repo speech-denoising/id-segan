{
 "cells": [
  {
   "cell_type": "code",
   "execution_count": 24,
   "metadata": {
    "ExecuteTime": {
     "end_time": "2021-04-27T18:23:28.391683Z",
     "start_time": "2021-04-27T18:23:28.383801Z"
    }
   },
   "outputs": [],
   "source": [
    "from scipy.io import wavfile\n",
    "from pesq import pesq\n",
    "import soundfile as sf\n",
    "from pystoi import stoi\n",
    "import os\n",
    "import time as tm\n",
    "import numpy as np"
   ]
  },
  {
   "cell_type": "code",
   "execution_count": 25,
   "metadata": {
    "ExecuteTime": {
     "end_time": "2021-04-27T18:23:28.612529Z",
     "start_time": "2021-04-27T18:23:28.602080Z"
    }
   },
   "outputs": [],
   "source": [
    "def calc_pesq(cln, nsy):\n",
    "    # частота дискретизации\n",
    "    tm1 = tm.time()\n",
    "    wide = [pesq(16000, wavfile.read(f\"./clean/{el1}\")[1], wavfile.read(\n",
    "        f\"./noisy/{el2}\")[1], 'wb') for el1, el2 in zip(cln, nsy)]\n",
    "    tm1 = tm.time() - tm1\n",
    "\n",
    "    tm2 = tm.time()\n",
    "    narrow = [pesq(8000, wavfile.read(f\"./clean/{el1}\")[1], wavfile.read(\n",
    "        f\"./noisy/{el2}\")[1], 'nb') for el1, el2 in zip(cln, nsy)]\n",
    "    tm2 = tm.time() - tm2\n",
    "\n",
    "    print(\n",
    "        f'pesq for wide band: mean = {round(np.mean(wide), 2)}, max = {round(max(wide), 2)}, min = {round(min(wide), 2)}, executed in {round(tm1, 2)} sec')\n",
    "    print(\n",
    "        f'pesq for narrow band: mean = {round(np.mean(narrow), 2)}, max = {round(max(narrow), 2)}, min = {round(min(narrow), 2)}, executed in {round(tm2, 2)} sec')"
   ]
  },
  {
   "cell_type": "code",
   "execution_count": 26,
   "metadata": {
    "ExecuteTime": {
     "end_time": "2021-04-27T18:23:28.832798Z",
     "start_time": "2021-04-27T18:23:28.817734Z"
    }
   },
   "outputs": [],
   "source": [
    "def calc_stoi(cln, nsy):\n",
    "    ex = tm.time()\n",
    "    stoi_ = [stoi(sf.read(f\"./clean/{el1}\")[0], *sf.read(\n",
    "        f\"./noisy/{el2}\")) for el1, el2 in zip(cln, nsy)]\n",
    "    ex = tm.time() - ex\n",
    "    \n",
    "    print(\n",
    "        f'stoi: mean = {round(np.mean(stoi_), 2)}, max = {round(max(stoi_), 2)}, min = {round(min(stoi_), 2)}, executed in {round(ex, 2)} sec')"
   ]
  },
  {
   "cell_type": "code",
   "execution_count": 38,
   "metadata": {
    "ExecuteTime": {
     "end_time": "2021-04-27T18:28:15.071006Z",
     "start_time": "2021-04-27T18:28:15.048798Z"
    }
   },
   "outputs": [],
   "source": [
    "def metric_calc():\n",
    "    clean, noisy = [files for _, _, files in os.walk(\n",
    "        \"./clean/\")][0], [files for _, _, files in os.walk(\"./noisy/\")][0]\n",
    "\n",
    "    calc_pesq(clean, noisy)\n",
    "    calc_stoi(clean, noisy)"
   ]
  },
  {
   "cell_type": "markdown",
   "metadata": {},
   "source": [
    "### Dsegan"
   ]
  },
  {
   "cell_type": "code",
   "execution_count": 43,
   "metadata": {
    "ExecuteTime": {
     "end_time": "2021-04-27T18:45:49.710211Z",
     "start_time": "2021-04-27T18:42:04.615411Z"
    }
   },
   "outputs": [
    {
     "name": "stdout",
     "output_type": "stream",
     "text": [
      "pesq for wide band: mean = 1.77, max = 2.9, min = 1.14, executed in 74.41 sec\n",
      "pesq for narrow band: mean = 3.2, max = 4.01, min = 1.8, executed in 80.43 sec\n",
      "stoi: mean = 0.83, max = 0.94, min = 0.5, executed in 70.25 sec\n"
     ]
    }
   ],
   "source": [
    "metric_calc()"
   ]
  },
  {
   "cell_type": "code",
   "execution_count": null,
   "metadata": {},
   "outputs": [],
   "source": []
  }
 ],
 "metadata": {
  "kernelspec": {
   "display_name": "Python 3",
   "language": "python",
   "name": "python3"
  },
  "language_info": {
   "codemirror_mode": {
    "name": "ipython",
    "version": 3
   },
   "file_extension": ".py",
   "mimetype": "text/x-python",
   "name": "python",
   "nbconvert_exporter": "python",
   "pygments_lexer": "ipython3",
   "version": "3.8.6"
  }
 },
 "nbformat": 4,
 "nbformat_minor": 4
}
