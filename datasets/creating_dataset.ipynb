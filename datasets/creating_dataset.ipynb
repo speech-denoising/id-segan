{
 "cells": [
  {
   "cell_type": "code",
   "execution_count": 2,
   "metadata": {},
   "outputs": [],
   "source": [
    "from pathlib import PurePath\n",
    "from pydub import AudioSegment\n",
    "import wave\n",
    "import contextlib\n",
    "import os\n",
    "import random"
   ]
  },
  {
   "cell_type": "code",
   "execution_count": 3,
   "metadata": {},
   "outputs": [],
   "source": [
    "path_clean_flac = 'clean_testset_flac\\\\'\n",
    "path_clean_wav = 'clean_testset_wav\\\\'\n",
    "path_noises = 'noises\\\\'\n",
    "path_noisy_wav = 'noisy_testset_wav\\\\'"
   ]
  },
  {
   "cell_type": "code",
   "execution_count": 4,
   "metadata": {},
   "outputs": [],
   "source": [
    "def fluc_to_wav(flac):\n",
    "    file = AudioSegment.from_file(flac, flac.split('.')[1])\n",
    "    flac = flac.replace(path_clean_flac, path_clean_wav)\n",
    "    file.export(flac.replace(\".flac\", \".wav\"), format=\"wav\")\n",
    "    return flac.replace(\".flac\", \".wav\")"
   ]
  },
  {
   "cell_type": "code",
   "execution_count": 5,
   "metadata": {},
   "outputs": [],
   "source": [
    "def cut_mix_wavs(wav1, wav2, filename):\n",
    "    with contextlib.closing(wave.open(wav2,'r')) as f:\n",
    "        frames = f.getnframes()\n",
    "        rate = f.getframerate()\n",
    "        duration1 = frames / float(rate)\n",
    "    with contextlib.closing(wave.open(wav1,'r')) as f:\n",
    "        frames = f.getnframes()\n",
    "        rate = f.getframerate()\n",
    "        duration2 = frames / float(rate)\n",
    "    t1 = int(random.randrange(0, int(duration2 - duration1)-1, 1)) * 1000 #Works in milliseconds\n",
    "    t2 = (t1 + duration2) * 1000\n",
    "    cutedAudio = AudioSegment.from_wav(wav1)\n",
    "    cutedAudio = cutedAudio[t1:t2]\n",
    "    mix_wavs(cutedAudio, wav2, filename)\n"
   ]
  },
  {
   "cell_type": "code",
   "execution_count": 6,
   "metadata": {},
   "outputs": [],
   "source": [
    "def mix_wavs(segmentwav1, wav2, filename):\n",
    "    sound1 = AudioSegment.from_file(wav2)\n",
    "    sound2 = segmentwav1\n",
    "\n",
    "    combined = sound1.overlay(sound2)\n",
    "\n",
    "    combined.export(path_noisy_wav+filename, format='wav')\n",
    "    return"
   ]
  },
  {
   "cell_type": "code",
   "execution_count": 7,
   "metadata": {},
   "outputs": [],
   "source": [
    "\n",
    "def main():\n",
    "    for root, dirs, files in os.walk(path_clean_flac):\n",
    "        for filename in files:\n",
    "            fluc_to_wav(path_clean_flac + filename)\n",
    "    noises_arr = []    \n",
    "    for _, _, noises in os.walk(path_noises):\n",
    "            for noise in noises:\n",
    "                    noises_arr.append(noise)\n",
    "    for root, dirs, files in os.walk(path_clean_wav):\n",
    "        for filename in files:\n",
    "            cut_mix_wavs(path_noises+noises_arr[int(random.randrange(0, len(noises_arr)-1, 1))], path_clean_wav+filename, filename)\n",
    "                    "
   ]
  },
  {
   "cell_type": "code",
   "execution_count": 8,
   "metadata": {
    "scrolled": true
   },
   "outputs": [],
   "source": [
    "main()"
   ]
  }
 ],
 "metadata": {
  "kernelspec": {
   "display_name": "Python 3",
   "language": "python",
   "name": "python3"
  },
  "language_info": {
   "codemirror_mode": {
    "name": "ipython",
    "version": 3
   },
   "file_extension": ".py",
   "mimetype": "text/x-python",
   "name": "python",
   "nbconvert_exporter": "python",
   "pygments_lexer": "ipython3",
   "version": "3.7.4"
  }
 },
 "nbformat": 4,
 "nbformat_minor": 2
}
